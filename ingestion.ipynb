{
 "cells": [
  {
   "cell_type": "code",
   "execution_count": 1,
   "id": "adc0c115-0344-4a76-84b8-c0f38b923956",
   "metadata": {},
   "outputs": [],
   "source": [
    "import os\n",
    "import time\n",
    "import pandas as pd\n",
    "import logging\n",
    "from sqlalchemy import create_engine\n",
    "\n",
    "# Setup logging\n",
    "logging.basicConfig(\n",
    "    filename=\"logs/ingestion.log\",\n",
    "    filemode=\"a\",\n",
    "    format=\"%(asctime)s - %(levelname)s - %(message)s\",\n",
    "    level=logging.INFO\n",
    ")\n",
    "\n",
    "# Create engine (change to your DB)\n",
    "engine = create_engine(\"sqlite:///inventory.db\")\n",
    "\n",
    "def ingest_db(file, table_name, engine, chunksize=10000):\n",
    "    for chunk in pd.read_csv(file, chunksize=chunksize):\n",
    "        chunk.to_sql(\n",
    "            table_name,\n",
    "            con=engine,\n",
    "            if_exists='append',\n",
    "            index=False\n",
    "        )\n",
    "        logging.info(f\"Inserted {len(chunk)} rows into {table_name}\")\n",
    "\n",
    "def load_raw_data():\n",
    "    \"\"\"Loop through CSVs in data folder and load into DB\"\"\"\n",
    "    start = time.time()\n",
    "\n",
    "    for file in os.listdir('data'):\n",
    "        if file.endswith('.csv'):\n",
    "            logging.info(f'Ingesting {file} into db')\n",
    "            ingest_db(os.path.join('data', file), file[:-4], engine)\n",
    "\n",
    "    end = time.time()\n",
    "    total_time = (end - start) / 60\n",
    "    logging.info('Ingestion Complete')\n",
    "    logging.info(f'Total time taken: {total_time:.2f} minutes')\n",
    "\n",
    "if __name__ == '__main__':\n",
    "    load_raw_data()\n",
    "    logging.shutdown()\n"
   ]
  },
  {
   "cell_type": "code",
   "execution_count": null,
   "id": "d3bd9f5a-43a7-4d81-8ac5-f78f98a213ad",
   "metadata": {},
   "outputs": [],
   "source": []
  }
 ],
 "metadata": {
  "kernelspec": {
   "display_name": "Python 3 (ipykernel)",
   "language": "python",
   "name": "python3"
  },
  "language_info": {
   "codemirror_mode": {
    "name": "ipython",
    "version": 3
   },
   "file_extension": ".py",
   "mimetype": "text/x-python",
   "name": "python",
   "nbconvert_exporter": "python",
   "pygments_lexer": "ipython3",
   "version": "3.13.2"
  }
 },
 "nbformat": 4,
 "nbformat_minor": 5
}
